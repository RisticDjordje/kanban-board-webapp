{
 "cells": [
  {
   "cell_type": "code",
   "execution_count": 4,
   "metadata": {},
   "outputs": [
    {
     "name": "stdout",
     "output_type": "stream",
     "text": [
      "{\n",
      "  \"lists\": [\n",
      "    {\n",
      "      \"id\": 1,\n",
      "      \"name\": \"To-Do\",\n",
      "      \"order_index\": 0,\n",
      "      \"tasks\": []\n",
      "    },\n",
      "    {\n",
      "      \"id\": 2,\n",
      "      \"name\": \"Completed\",\n",
      "      \"order_index\": 1,\n",
      "      \"tasks\": []\n",
      "    },\n",
      "    {\n",
      "      \"id\": 3,\n",
      "      \"name\": \"In Progress\",\n",
      "      \"order_index\": 2,\n",
      "      \"tasks\": []\n",
      "    }\n",
      "  ],\n",
      "  \"message\": \"Successfully retrieved all lists from the database.\"\n",
      "}\n",
      "\n"
     ]
    }
   ],
   "source": [
    "import requests\n",
    "\n",
    "# Get the data from the URL\n",
    "url = 'http://localhost:5001/lists'\n",
    "\n",
    "# Get the data from the URL\n",
    "response = requests.get(url)\n",
    "print(response.text)"
   ]
  }
 ],
 "metadata": {
  "kernelspec": {
   "display_name": "cs162",
   "language": "python",
   "name": "python3"
  },
  "language_info": {
   "codemirror_mode": {
    "name": "ipython",
    "version": 3
   },
   "file_extension": ".py",
   "mimetype": "text/x-python",
   "name": "python",
   "nbconvert_exporter": "python",
   "pygments_lexer": "ipython3",
   "version": "3.11.4"
  }
 },
 "nbformat": 4,
 "nbformat_minor": 2
}
