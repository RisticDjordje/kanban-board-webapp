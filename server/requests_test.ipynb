{
 "cells": [
  {
   "cell_type": "code",
   "execution_count": 22,
   "metadata": {},
   "outputs": [
    {
     "name": "stdout",
     "output_type": "stream",
     "text": [
      "{\n",
      "  \"lists\": [\n",
      "    {\n",
      "      \"id\": 1,\n",
      "      \"name\": \"To-Do\",\n",
      "      \"order_index\": 0,\n",
      "      \"tasks\": [\n",
      "        {\n",
      "          \"id\": 1,\n",
      "          \"is_completed\": false,\n",
      "          \"list_id\": 1,\n",
      "          \"name\": \"task1\",\n",
      "          \"parent_id\": null,\n",
      "          \"subtasks\": [\n",
      "            {\n",
      "              \"id\": 4,\n",
      "              \"is_completed\": false,\n",
      "              \"list_id\": 1,\n",
      "              \"name\": \"subtaskasdfas1\",\n",
      "              \"parent_id\": 1,\n",
      "              \"subtasks\": [],\n",
      "              \"task_depth\": 1\n",
      "            },\n",
      "            {\n",
      "              \"id\": 5,\n",
      "              \"is_completed\": false,\n",
      "              \"list_id\": 1,\n",
      "              \"name\": \"subtaskasdfas1\",\n",
      "              \"parent_id\": 1,\n",
      "              \"subtasks\": [],\n",
      "              \"task_depth\": 1\n",
      "            },\n",
      "            {\n",
      "              \"id\": 6,\n",
      "              \"is_completed\": false,\n",
      "              \"list_id\": 1,\n",
      "              \"name\": \"subtaskasdfas1\",\n",
      "              \"parent_id\": 1,\n",
      "              \"subtasks\": [],\n",
      "              \"task_depth\": 1\n",
      "            },\n",
      "            {\n",
      "              \"id\": 7,\n",
      "              \"is_completed\": false,\n",
      "              \"list_id\": 1,\n",
      "              \"name\": \"subtaskasdfas1s\",\n",
      "              \"parent_id\": 1,\n",
      "              \"subtasks\": [],\n",
      "              \"task_depth\": 1\n",
      "            }\n",
      "          ],\n",
      "          \"task_depth\": 0\n",
      "        },\n",
      "        {\n",
      "          \"id\": 2,\n",
      "          \"is_completed\": false,\n",
      "          \"list_id\": 1,\n",
      "          \"name\": \"task2\",\n",
      "          \"parent_id\": null,\n",
      "          \"subtasks\": [],\n",
      "          \"task_depth\": 0\n",
      "        },\n",
      "        {\n",
      "          \"id\": 3,\n",
      "          \"is_completed\": false,\n",
      "          \"list_id\": 1,\n",
      "          \"name\": \"task4\",\n",
      "          \"parent_id\": null,\n",
      "          \"subtasks\": [],\n",
      "          \"task_depth\": 0\n",
      "        }\n",
      "      ]\n",
      "    },\n",
      "    {\n",
      "      \"id\": 2,\n",
      "      \"name\": \"Completed\",\n",
      "      \"order_index\": 1,\n",
      "      \"tasks\": []\n",
      "    }\n",
      "  ],\n",
      "  \"message\": \"Successfully retrieved all lists from the database.\"\n",
      "}\n",
      "\n"
     ]
    }
   ],
   "source": [
    "import requests\n",
    "\n",
    "# Get the data from the URL\n",
    "url = 'http://localhost:5001/lists'\n",
    "\n",
    "# Get the data from the URL\n",
    "response = requests.get(url)\n",
    "print(response.text)"
   ]
  },
  {
   "cell_type": "code",
   "execution_count": 8,
   "metadata": {},
   "outputs": [
    {
     "name": "stdout",
     "output_type": "stream",
     "text": [
      "{\n",
      "  \"lists\": [\n",
      "    {\n",
      "      \"id\": 1,\n",
      "      \"list_id\": 1,\n",
      "      \"name\": \"In progress\",\n",
      "      \"parent_id\": null,\n",
      "      \"subtasks\": [],\n",
      "      \"task_depth\": 0\n",
      "    },\n",
      "    {\n",
      "      \"id\": 2,\n",
      "      \"list_id\": 1,\n",
      "      \"name\": \"In progresssadf\",\n",
      "      \"parent_id\": null,\n",
      "      \"subtasks\": [],\n",
      "      \"task_depth\": 0\n",
      "    },\n",
      "    {\n",
      "      \"id\": 3,\n",
      "      \"list_id\": 1,\n",
      "      \"name\": \"In progresssaddafsdf\",\n",
      "      \"parent_id\": null,\n",
      "      \"subtasks\": [],\n",
      "      \"task_depth\": 0\n",
      "    },\n",
      "    {\n",
      "      \"id\": 4,\n",
      "      \"list_id\": 1,\n",
      "      \"name\": \"test\",\n",
      "      \"parent_id\": null,\n",
      "      \"subtasks\": [],\n",
      "      \"task_depth\": 0\n",
      "    }\n",
      "  ],\n",
      "  \"message\": \"Successfully retrieved all the tasks from the database.\"\n",
      "}\n",
      "\n"
     ]
    }
   ],
   "source": [
    "# Get the data from the URL\n",
    "url = 'http://localhost:5001/tasks'\n",
    "\n",
    "# Get the data from the URL\n",
    "response = requests.get(url)\n",
    "print(response.text)"
   ]
  },
  {
   "cell_type": "code",
   "execution_count": 24,
   "metadata": {},
   "outputs": [
    {
     "name": "stdout",
     "output_type": "stream",
     "text": [
      "{\n",
      "  \"message\": \"Successfully added task to the database.\"\n",
      "}\n",
      "\n"
     ]
    }
   ],
   "source": [
    "# add subtask\n",
    "\n",
    "# Get the data from the URL\n",
    "url = 'http://localhost:5001/add_subtask'\n",
    "\n",
    "# Get the data from the URL\n",
    "response = requests.post(url, json={'name': 'asdfas', 'list_id': '1', 'parent_id': 4})\n",
    "print(response.text)"
   ]
  },
  {
   "cell_type": "code",
   "execution_count": 17,
   "metadata": {},
   "outputs": [
    {
     "name": "stdout",
     "output_type": "stream",
     "text": [
      "{\n",
      "  \"message\": \"Successfully added task to the database.\"\n",
      "}\n",
      "\n"
     ]
    }
   ],
   "source": [
    "# add task\n",
    "\n",
    "# Get the data from the URL\n",
    "url = 'http://localhost:5001/add_task'\n",
    "\n",
    "# Get the data from the URL\n",
    "response = requests.post(url, json={'name': 'task4'})\n",
    "print(response.text)"
   ]
  }
 ],
 "metadata": {
  "kernelspec": {
   "display_name": "cs162",
   "language": "python",
   "name": "python3"
  },
  "language_info": {
   "codemirror_mode": {
    "name": "ipython",
    "version": 3
   },
   "file_extension": ".py",
   "mimetype": "text/x-python",
   "name": "python",
   "nbconvert_exporter": "python",
   "pygments_lexer": "ipython3",
   "version": "3.11.4"
  }
 },
 "nbformat": 4,
 "nbformat_minor": 2
}
